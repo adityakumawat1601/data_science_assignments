{
 "cells": [
  {
   "cell_type": "code",
   "execution_count": 1,
   "id": "83437280",
   "metadata": {},
   "outputs": [],
   "source": [
    "import numpy as np\n",
    "import matplotlib.pyplot as plt\n",
    "import pandas as pd"
   ]
  },
  {
   "cell_type": "code",
   "execution_count": 2,
   "id": "e8e626dc",
   "metadata": {
    "scrolled": true
   },
   "outputs": [
    {
     "data": {
      "text/html": [
       "<div>\n",
       "<style scoped>\n",
       "    .dataframe tbody tr th:only-of-type {\n",
       "        vertical-align: middle;\n",
       "    }\n",
       "\n",
       "    .dataframe tbody tr th {\n",
       "        vertical-align: top;\n",
       "    }\n",
       "\n",
       "    .dataframe thead th {\n",
       "        text-align: right;\n",
       "    }\n",
       "</style>\n",
       "<table border=\"1\" class=\"dataframe\">\n",
       "  <thead>\n",
       "    <tr style=\"text-align: right;\">\n",
       "      <th></th>\n",
       "      <th>Web ID</th>\n",
       "      <th>Region of Incident</th>\n",
       "      <th>Reported Date</th>\n",
       "      <th>Reported Year</th>\n",
       "      <th>Reported Month</th>\n",
       "      <th>Number Dead</th>\n",
       "      <th>Minimum Estimated Number of Missing</th>\n",
       "      <th>Total Dead and Missing</th>\n",
       "      <th>Number of Survivors</th>\n",
       "      <th>Number of Females</th>\n",
       "      <th>Number of Males</th>\n",
       "      <th>Number of Children</th>\n",
       "      <th>Cause of Death</th>\n",
       "      <th>Location Description</th>\n",
       "      <th>Information Source</th>\n",
       "      <th>Location Coordinates</th>\n",
       "      <th>Migration Route</th>\n",
       "      <th>URL</th>\n",
       "      <th>UNSD Geographical Grouping</th>\n",
       "      <th>Source Quality</th>\n",
       "    </tr>\n",
       "  </thead>\n",
       "  <tbody>\n",
       "    <tr>\n",
       "      <th>0</th>\n",
       "      <td>51591</td>\n",
       "      <td>Mediterranean</td>\n",
       "      <td>March 28, 2019</td>\n",
       "      <td>2019</td>\n",
       "      <td>Mar</td>\n",
       "      <td>NaN</td>\n",
       "      <td>2.0</td>\n",
       "      <td>2</td>\n",
       "      <td>36.0</td>\n",
       "      <td>NaN</td>\n",
       "      <td>2.0</td>\n",
       "      <td>NaN</td>\n",
       "      <td>Presumed drowning</td>\n",
       "      <td>Off the coast of Chios, Greece</td>\n",
       "      <td>Hellenic Coast Guard via IOM Greece</td>\n",
       "      <td>38.362368696592, 26.172509473654</td>\n",
       "      <td>Eastern Mediterranean</td>\n",
       "      <td>NaN</td>\n",
       "      <td>Uncategorized</td>\n",
       "      <td>5</td>\n",
       "    </tr>\n",
       "    <tr>\n",
       "      <th>1</th>\n",
       "      <td>51588</td>\n",
       "      <td>Mediterranean</td>\n",
       "      <td>March 26, 2019</td>\n",
       "      <td>2019</td>\n",
       "      <td>Mar</td>\n",
       "      <td>4.0</td>\n",
       "      <td>NaN</td>\n",
       "      <td>4</td>\n",
       "      <td>11.0</td>\n",
       "      <td>3.0</td>\n",
       "      <td>NaN</td>\n",
       "      <td>1.0</td>\n",
       "      <td>Presumed drowning</td>\n",
       "      <td>Off the coast of Ayvac?k district, Çanakkale p...</td>\n",
       "      <td>Turkish Coast Guard via IOM Turkey</td>\n",
       "      <td>39.441975591614, 26.378816195919</td>\n",
       "      <td>Eastern Mediterranean</td>\n",
       "      <td>http://bit.ly/2YmiPAN</td>\n",
       "      <td>Uncategorized</td>\n",
       "      <td>5</td>\n",
       "    </tr>\n",
       "    <tr>\n",
       "      <th>2</th>\n",
       "      <td>51589</td>\n",
       "      <td>Mediterranean</td>\n",
       "      <td>March 26, 2019</td>\n",
       "      <td>2019</td>\n",
       "      <td>Mar</td>\n",
       "      <td>1.0</td>\n",
       "      <td>NaN</td>\n",
       "      <td>1</td>\n",
       "      <td>NaN</td>\n",
       "      <td>NaN</td>\n",
       "      <td>NaN</td>\n",
       "      <td>NaN</td>\n",
       "      <td>Presumed drowning</td>\n",
       "      <td>Body recovered on Playa del Tarajal, Ceuta, Sp...</td>\n",
       "      <td>Ceuta al día, El Pueblo de Ceuta</td>\n",
       "      <td>35.871901875921, -5.343037665842</td>\n",
       "      <td>Western Mediterranean</td>\n",
       "      <td>http://bit.ly/2uyj7qO, http://bit.ly/2uwj5zC</td>\n",
       "      <td>Uncategorized</td>\n",
       "      <td>3</td>\n",
       "    </tr>\n",
       "    <tr>\n",
       "      <th>3</th>\n",
       "      <td>51590</td>\n",
       "      <td>Mediterranean</td>\n",
       "      <td>March 26, 2019</td>\n",
       "      <td>2019</td>\n",
       "      <td>Mar</td>\n",
       "      <td>1.0</td>\n",
       "      <td>NaN</td>\n",
       "      <td>1</td>\n",
       "      <td>NaN</td>\n",
       "      <td>NaN</td>\n",
       "      <td>NaN</td>\n",
       "      <td>NaN</td>\n",
       "      <td>Presumed drowning</td>\n",
       "      <td>Body recovered on beach near Tetouan, Morocco ...</td>\n",
       "      <td>El Pueblo de Ceuta</td>\n",
       "      <td>35.635115912988, -5.275650103548</td>\n",
       "      <td>Western Mediterranean</td>\n",
       "      <td>http://bit.ly/2uwj5zC</td>\n",
       "      <td>Uncategorized</td>\n",
       "      <td>1</td>\n",
       "    </tr>\n",
       "    <tr>\n",
       "      <th>4</th>\n",
       "      <td>51587</td>\n",
       "      <td>Central America</td>\n",
       "      <td>March 25, 2019</td>\n",
       "      <td>2019</td>\n",
       "      <td>Mar</td>\n",
       "      <td>1.0</td>\n",
       "      <td>NaN</td>\n",
       "      <td>1</td>\n",
       "      <td>NaN</td>\n",
       "      <td>NaN</td>\n",
       "      <td>1.0</td>\n",
       "      <td>NaN</td>\n",
       "      <td>Fall from train</td>\n",
       "      <td>Train tracks in Teacalco, Tlaxcala, Mexico</td>\n",
       "      <td>Megalópolis, Línea de contraste</td>\n",
       "      <td>19.334475177429, -98.069823987538</td>\n",
       "      <td>NaN</td>\n",
       "      <td>http://bit.ly/2uvDIvH, http://bit.ly/2TXAFLS</td>\n",
       "      <td>Central America</td>\n",
       "      <td>3</td>\n",
       "    </tr>\n",
       "  </tbody>\n",
       "</table>\n",
       "</div>"
      ],
      "text/plain": [
       "   Web ID Region of Incident   Reported Date  Reported Year Reported Month  \\\n",
       "0   51591      Mediterranean  March 28, 2019           2019            Mar   \n",
       "1   51588      Mediterranean  March 26, 2019           2019            Mar   \n",
       "2   51589      Mediterranean  March 26, 2019           2019            Mar   \n",
       "3   51590      Mediterranean  March 26, 2019           2019            Mar   \n",
       "4   51587    Central America  March 25, 2019           2019            Mar   \n",
       "\n",
       "   Number Dead  Minimum Estimated Number of Missing  Total Dead and Missing  \\\n",
       "0          NaN                                  2.0                       2   \n",
       "1          4.0                                  NaN                       4   \n",
       "2          1.0                                  NaN                       1   \n",
       "3          1.0                                  NaN                       1   \n",
       "4          1.0                                  NaN                       1   \n",
       "\n",
       "   Number of Survivors  Number of Females  Number of Males  \\\n",
       "0                 36.0                NaN              2.0   \n",
       "1                 11.0                3.0              NaN   \n",
       "2                  NaN                NaN              NaN   \n",
       "3                  NaN                NaN              NaN   \n",
       "4                  NaN                NaN              1.0   \n",
       "\n",
       "   Number of Children     Cause of Death  \\\n",
       "0                 NaN  Presumed drowning   \n",
       "1                 1.0  Presumed drowning   \n",
       "2                 NaN  Presumed drowning   \n",
       "3                 NaN  Presumed drowning   \n",
       "4                 NaN    Fall from train   \n",
       "\n",
       "                                Location Description  \\\n",
       "0                     Off the coast of Chios, Greece   \n",
       "1  Off the coast of Ayvac?k district, Çanakkale p...   \n",
       "2  Body recovered on Playa del Tarajal, Ceuta, Sp...   \n",
       "3  Body recovered on beach near Tetouan, Morocco ...   \n",
       "4         Train tracks in Teacalco, Tlaxcala, Mexico   \n",
       "\n",
       "                    Information Source               Location Coordinates  \\\n",
       "0  Hellenic Coast Guard via IOM Greece   38.362368696592, 26.172509473654   \n",
       "1   Turkish Coast Guard via IOM Turkey   39.441975591614, 26.378816195919   \n",
       "2     Ceuta al día, El Pueblo de Ceuta   35.871901875921, -5.343037665842   \n",
       "3                   El Pueblo de Ceuta   35.635115912988, -5.275650103548   \n",
       "4      Megalópolis, Línea de contraste  19.334475177429, -98.069823987538   \n",
       "\n",
       "         Migration Route                                           URL  \\\n",
       "0  Eastern Mediterranean                                           NaN   \n",
       "1  Eastern Mediterranean                         http://bit.ly/2YmiPAN   \n",
       "2  Western Mediterranean  http://bit.ly/2uyj7qO, http://bit.ly/2uwj5zC   \n",
       "3  Western Mediterranean                         http://bit.ly/2uwj5zC   \n",
       "4                    NaN  http://bit.ly/2uvDIvH, http://bit.ly/2TXAFLS   \n",
       "\n",
       "  UNSD Geographical Grouping  Source Quality  \n",
       "0              Uncategorized               5  \n",
       "1              Uncategorized               5  \n",
       "2              Uncategorized               3  \n",
       "3              Uncategorized               1  \n",
       "4            Central America               3  "
      ]
     },
     "execution_count": 2,
     "metadata": {},
     "output_type": "execute_result"
    }
   ],
   "source": [
    "df = pd.read_csv('MissingMigrantsGlobal.csv',sep=\"\\t\",encoding='latin1')\n",
    "df.head()"
   ]
  },
  {
   "cell_type": "code",
   "execution_count": 3,
   "id": "90c28a9a",
   "metadata": {},
   "outputs": [
    {
     "data": {
      "text/plain": [
       "(5333, 20)"
      ]
     },
     "execution_count": 3,
     "metadata": {},
     "output_type": "execute_result"
    }
   ],
   "source": [
    "df.shape"
   ]
  },
  {
   "cell_type": "code",
   "execution_count": 4,
   "id": "47a89f4f",
   "metadata": {},
   "outputs": [
    {
     "data": {
      "text/plain": [
       "Index(['Web ID', 'Region of Incident', 'Reported Date', 'Reported Year',\n",
       "       'Reported Month', 'Number Dead', 'Minimum Estimated Number of Missing',\n",
       "       'Total Dead and Missing', 'Number of Survivors', 'Number of Females',\n",
       "       'Number of Males', 'Number of Children', 'Cause of Death',\n",
       "       'Location Description', 'Information Source', 'Location Coordinates',\n",
       "       'Migration Route', 'URL', 'UNSD Geographical Grouping',\n",
       "       'Source Quality'],\n",
       "      dtype='object')"
      ]
     },
     "execution_count": 4,
     "metadata": {},
     "output_type": "execute_result"
    }
   ],
   "source": [
    "df.columns"
   ]
  },
  {
   "cell_type": "code",
   "execution_count": 5,
   "id": "2d8e407f",
   "metadata": {},
   "outputs": [
    {
     "data": {
      "text/plain": [
       "US-Mexico Border      1337\n",
       "North Africa          1239\n",
       "Mediterranean          984\n",
       "Sub-Saharan Africa     475\n",
       "Central America        309\n",
       "Europe                 249\n",
       "Horn of Africa         235\n",
       "Middle East            164\n",
       "South Asia             151\n",
       "Southeast Asia          96\n",
       "Name: Region of Incident, dtype: int64"
      ]
     },
     "execution_count": 5,
     "metadata": {},
     "output_type": "execute_result"
    }
   ],
   "source": [
    "#Top ten region of incidents\n",
    "df[\"Region of Incident\"].value_counts()[:10]"
   ]
  },
  {
   "cell_type": "code",
   "execution_count": null,
   "id": "edbe44e1",
   "metadata": {},
   "outputs": [],
   "source": []
  },
  {
   "cell_type": "code",
   "execution_count": 6,
   "id": "c1f7f95e",
   "metadata": {},
   "outputs": [
    {
     "data": {
      "text/html": [
       "<div>\n",
       "<style scoped>\n",
       "    .dataframe tbody tr th:only-of-type {\n",
       "        vertical-align: middle;\n",
       "    }\n",
       "\n",
       "    .dataframe tbody tr th {\n",
       "        vertical-align: top;\n",
       "    }\n",
       "\n",
       "    .dataframe thead th {\n",
       "        text-align: right;\n",
       "    }\n",
       "</style>\n",
       "<table border=\"1\" class=\"dataframe\">\n",
       "  <thead>\n",
       "    <tr style=\"text-align: right;\">\n",
       "      <th></th>\n",
       "      <th>Number of Males</th>\n",
       "      <th>Number of Females</th>\n",
       "      <th>Number of Children</th>\n",
       "    </tr>\n",
       "    <tr>\n",
       "      <th>Region of Incident</th>\n",
       "      <th></th>\n",
       "      <th></th>\n",
       "      <th></th>\n",
       "    </tr>\n",
       "  </thead>\n",
       "  <tbody>\n",
       "    <tr>\n",
       "      <th>US-Mexico Border</th>\n",
       "      <td>942</td>\n",
       "      <td>89</td>\n",
       "      <td>20</td>\n",
       "    </tr>\n",
       "    <tr>\n",
       "      <th>Mediterranean</th>\n",
       "      <td>374</td>\n",
       "      <td>256</td>\n",
       "      <td>235</td>\n",
       "    </tr>\n",
       "    <tr>\n",
       "      <th>North Africa</th>\n",
       "      <td>338</td>\n",
       "      <td>200</td>\n",
       "      <td>107</td>\n",
       "    </tr>\n",
       "    <tr>\n",
       "      <th>Sub-Saharan Africa</th>\n",
       "      <td>296</td>\n",
       "      <td>150</td>\n",
       "      <td>107</td>\n",
       "    </tr>\n",
       "    <tr>\n",
       "      <th>Central America</th>\n",
       "      <td>252</td>\n",
       "      <td>26</td>\n",
       "      <td>25</td>\n",
       "    </tr>\n",
       "    <tr>\n",
       "      <th>Europe</th>\n",
       "      <td>196</td>\n",
       "      <td>27</td>\n",
       "      <td>30</td>\n",
       "    </tr>\n",
       "    <tr>\n",
       "      <th>South Asia</th>\n",
       "      <td>130</td>\n",
       "      <td>15</td>\n",
       "      <td>15</td>\n",
       "    </tr>\n",
       "    <tr>\n",
       "      <th>Middle East</th>\n",
       "      <td>103</td>\n",
       "      <td>37</td>\n",
       "      <td>43</td>\n",
       "    </tr>\n",
       "    <tr>\n",
       "      <th>Horn of Africa</th>\n",
       "      <td>77</td>\n",
       "      <td>25</td>\n",
       "      <td>13</td>\n",
       "    </tr>\n",
       "    <tr>\n",
       "      <th>Southeast Asia</th>\n",
       "      <td>52</td>\n",
       "      <td>39</td>\n",
       "      <td>37</td>\n",
       "    </tr>\n",
       "  </tbody>\n",
       "</table>\n",
       "</div>"
      ],
      "text/plain": [
       "                    Number of Males  Number of Females  Number of Children\n",
       "Region of Incident                                                        \n",
       "US-Mexico Border                942                 89                  20\n",
       "Mediterranean                   374                256                 235\n",
       "North Africa                    338                200                 107\n",
       "Sub-Saharan Africa              296                150                 107\n",
       "Central America                 252                 26                  25\n",
       "Europe                          196                 27                  30\n",
       "South Asia                      130                 15                  15\n",
       "Middle East                     103                 37                  43\n",
       "Horn of Africa                   77                 25                  13\n",
       "Southeast Asia                   52                 39                  37"
      ]
     },
     "execution_count": 6,
     "metadata": {},
     "output_type": "execute_result"
    }
   ],
   "source": [
    "#female male children percetange in top ten region of incident\n",
    "person = df.groupby('Region of Incident')\n",
    "df_1 = person[['Number of Males','Number of Females','Number of Children']].count().sort_values(ascending =False,by=('Number of Males'))[:10]\n",
    "df_1"
   ]
  },
  {
   "cell_type": "code",
   "execution_count": 7,
   "id": "f6f451ea",
   "metadata": {},
   "outputs": [],
   "source": [
    "# females =person['Number of Females'].count().sort_values(ascending =False)[:10]\n",
    "# females\n",
    "\n",
    "total = (df_1['Number of Males']+df_1['Number of Females']+df_1['Number of Children'])/100\n",
    "percentage = df_1.transpose()/total"
   ]
  },
  {
   "cell_type": "code",
   "execution_count": 8,
   "id": "3771e733",
   "metadata": {},
   "outputs": [
    {
     "data": {
      "text/html": [
       "<div>\n",
       "<style scoped>\n",
       "    .dataframe tbody tr th:only-of-type {\n",
       "        vertical-align: middle;\n",
       "    }\n",
       "\n",
       "    .dataframe tbody tr th {\n",
       "        vertical-align: top;\n",
       "    }\n",
       "\n",
       "    .dataframe thead th {\n",
       "        text-align: right;\n",
       "    }\n",
       "</style>\n",
       "<table border=\"1\" class=\"dataframe\">\n",
       "  <thead>\n",
       "    <tr style=\"text-align: right;\">\n",
       "      <th></th>\n",
       "      <th>Number of Males</th>\n",
       "      <th>Number of Females</th>\n",
       "      <th>Number of Children</th>\n",
       "    </tr>\n",
       "    <tr>\n",
       "      <th>Region of Incident</th>\n",
       "      <th></th>\n",
       "      <th></th>\n",
       "      <th></th>\n",
       "    </tr>\n",
       "  </thead>\n",
       "  <tbody>\n",
       "    <tr>\n",
       "      <th>US-Mexico Border</th>\n",
       "      <td>89.628925</td>\n",
       "      <td>8.468126</td>\n",
       "      <td>1.902950</td>\n",
       "    </tr>\n",
       "    <tr>\n",
       "      <th>Mediterranean</th>\n",
       "      <td>43.236994</td>\n",
       "      <td>29.595376</td>\n",
       "      <td>27.167630</td>\n",
       "    </tr>\n",
       "    <tr>\n",
       "      <th>North Africa</th>\n",
       "      <td>52.403101</td>\n",
       "      <td>31.007752</td>\n",
       "      <td>16.589147</td>\n",
       "    </tr>\n",
       "    <tr>\n",
       "      <th>Sub-Saharan Africa</th>\n",
       "      <td>53.526221</td>\n",
       "      <td>27.124774</td>\n",
       "      <td>19.349005</td>\n",
       "    </tr>\n",
       "    <tr>\n",
       "      <th>Central America</th>\n",
       "      <td>83.168317</td>\n",
       "      <td>8.580858</td>\n",
       "      <td>8.250825</td>\n",
       "    </tr>\n",
       "    <tr>\n",
       "      <th>Europe</th>\n",
       "      <td>77.470356</td>\n",
       "      <td>10.671937</td>\n",
       "      <td>11.857708</td>\n",
       "    </tr>\n",
       "    <tr>\n",
       "      <th>South Asia</th>\n",
       "      <td>81.250000</td>\n",
       "      <td>9.375000</td>\n",
       "      <td>9.375000</td>\n",
       "    </tr>\n",
       "    <tr>\n",
       "      <th>Middle East</th>\n",
       "      <td>56.284153</td>\n",
       "      <td>20.218579</td>\n",
       "      <td>23.497268</td>\n",
       "    </tr>\n",
       "    <tr>\n",
       "      <th>Horn of Africa</th>\n",
       "      <td>66.956522</td>\n",
       "      <td>21.739130</td>\n",
       "      <td>11.304348</td>\n",
       "    </tr>\n",
       "    <tr>\n",
       "      <th>Southeast Asia</th>\n",
       "      <td>40.625000</td>\n",
       "      <td>30.468750</td>\n",
       "      <td>28.906250</td>\n",
       "    </tr>\n",
       "  </tbody>\n",
       "</table>\n",
       "</div>"
      ],
      "text/plain": [
       "                    Number of Males  Number of Females  Number of Children\n",
       "Region of Incident                                                        \n",
       "US-Mexico Border          89.628925           8.468126            1.902950\n",
       "Mediterranean             43.236994          29.595376           27.167630\n",
       "North Africa              52.403101          31.007752           16.589147\n",
       "Sub-Saharan Africa        53.526221          27.124774           19.349005\n",
       "Central America           83.168317           8.580858            8.250825\n",
       "Europe                    77.470356          10.671937           11.857708\n",
       "South Asia                81.250000           9.375000            9.375000\n",
       "Middle East               56.284153          20.218579           23.497268\n",
       "Horn of Africa            66.956522          21.739130           11.304348\n",
       "Southeast Asia            40.625000          30.468750           28.906250"
      ]
     },
     "execution_count": 8,
     "metadata": {},
     "output_type": "execute_result"
    }
   ],
   "source": [
    "data = percentage.T\n",
    "data"
   ]
  },
  {
   "cell_type": "code",
   "execution_count": 9,
   "id": "fdb6416c",
   "metadata": {},
   "outputs": [
    {
     "data": {
      "text/plain": [
       "<AxesSubplot:ylabel='Number of Males'>"
      ]
     },
     "execution_count": 9,
     "metadata": {},
     "output_type": "execute_result"
    },
    {
     "data": {
      "image/png": "[encoded data removed]",
      "text/plain": [
       "<Figure size 432x288 with 1 Axes>"
      ]
     },
     "metadata": {},
     "output_type": "display_data"
    }
   ],
   "source": [
    "data[\"Number of Males\"].plot(kind='pie')"
   ]
  },
  {
   "cell_type": "code",
   "execution_count": 10,
   "id": "2e90074c",
   "metadata": {},
   "outputs": [
    {
     "data": {
      "text/plain": [
       "Index(['Web ID', 'Region of Incident', 'Reported Date', 'Reported Year',\n",
       "       'Reported Month', 'Number Dead', 'Minimum Estimated Number of Missing',\n",
       "       'Total Dead and Missing', 'Number of Survivors', 'Number of Females',\n",
       "       'Number of Males', 'Number of Children', 'Cause of Death',\n",
       "       'Location Description', 'Information Source', 'Location Coordinates',\n",
       "       'Migration Route', 'URL', 'UNSD Geographical Grouping',\n",
       "       'Source Quality'],\n",
       "      dtype='object')"
      ]
     },
     "execution_count": 10,
     "metadata": {},
     "output_type": "execute_result"
    }
   ],
   "source": [
    "df.columns"
   ]
  },
  {
   "cell_type": "code",
   "execution_count": 11,
   "id": "469080a7",
   "metadata": {},
   "outputs": [
    {
     "data": {
      "text/plain": [
       "Mixed Migration Monitoring Mechanism Initiative (4Mi)    960\n",
       "Mixed Migration Monitoring Mechanism Initiative (4mi)    706\n",
       "Pima County Office of the Medical Examiner               681\n",
       "MHub                                                     190\n",
       "IOM Libya                                                111\n",
       "Syrian Observatory for Human Rights                       96\n",
       "IOM Afghanistan                                           92\n",
       "IOM Italy                                                 90\n",
       "UNHCR                                                     62\n",
       "South Texas Human Rights Center                           46\n",
       "Name: Information Source, dtype: int64"
      ]
     },
     "execution_count": 11,
     "metadata": {},
     "output_type": "execute_result"
    }
   ],
   "source": [
    "df['Information Source'].value_counts()[:10]"
   ]
  },
  {
   "cell_type": "code",
   "execution_count": 19,
   "id": "b0878397",
   "metadata": {},
   "outputs": [
    {
     "name": "stdout",
     "output_type": "stream",
     "text": [
      "Caribbean Dominican Today    3\n",
      "Name: Information Source, dtype: int64\n",
      "Central America Debate    6\n",
      "Name: Information Source, dtype: int64\n",
      "Central Asia Reuters, EurasiaNet, Asia News    1\n",
      "Name: Information Source, dtype: int64\n",
      "East Asia Taiwan Coast Guard Administration, VN Express, BBC Vietnamese    1\n",
      "Name: Information Source, dtype: int64\n",
      "Europe Calais Migrant Solidarity    13\n",
      "Name: Information Source, dtype: int64\n",
      "Horn of Africa Mixed Migration Monitoring Mechanism Initiative (4Mi)    130\n",
      "Name: Information Source, dtype: int64\n",
      "Mediterranean IOM Libya    102\n",
      "Name: Information Source, dtype: int64\n",
      "Middle East Syrian Observatory for Human Rights    96\n",
      "Name: Information Source, dtype: int64\n",
      "North Africa Mixed Migration Monitoring Mechanism Initiative (4Mi)    674\n",
      "Name: Information Source, dtype: int64\n",
      "North America CBC    1\n",
      "Name: Information Source, dtype: int64\n",
      "South America O Liberal    2\n",
      "Name: Information Source, dtype: int64\n",
      "South Asia IOM Afghanistan    92\n",
      "Name: Information Source, dtype: int64\n",
      "Southeast Asia Mixed Migration Monitoring Mechanism Initiative (4mi)    18\n",
      "Name: Information Source, dtype: int64\n",
      "Sub-Saharan Africa Mixed Migration Monitoring Mechanism Initiative (4mi)    269\n",
      "Name: Information Source, dtype: int64\n",
      "US-Mexico Border Pima County Office of the Medical Examiner    681\n",
      "Name: Information Source, dtype: int64\n"
     ]
    },
    {
     "name": "stderr",
     "output_type": "stream",
     "text": [
      "C:\\Users\\kumaw\\AppData\\Local\\Temp\\ipykernel_13076\\2909503827.py:2: FutureWarning: The default dtype for empty Series will be 'object' instead of 'float64' in a future version. Specify a dtype explicitly to silence this warning.\n",
      "  ser = pd.Series()\n"
     ]
    }
   ],
   "source": [
    "source = df.groupby('Region of Incident')\n",
    "ser = pd.Series()\n",
    "for region ,df_temp in source:\n",
    "    print(region,df_temp['Information Source'].value_counts()[:1])"
   ]
  },
  {
   "cell_type": "code",
   "execution_count": 20,
   "id": "d86bb6bb",
   "metadata": {
    "scrolled": true
   },
   "outputs": [
    {
     "data": {
      "text/plain": [
       "Region of Incident  Information Source\n",
       "Caribbean           Dominican Today       3\n",
       "Name: Information Source, dtype: int64"
      ]
     },
     "execution_count": 20,
     "metadata": {},
     "output_type": "execute_result"
    }
   ],
   "source": [
    "source = df.groupby('Region of Incident')\n",
    "source['Information Source'].value_counts().head(1)\n"
   ]
  },
  {
   "cell_type": "code",
   "execution_count": 23,
   "id": "1c032e64",
   "metadata": {},
   "outputs": [
    {
     "data": {
      "text/plain": [
       "Drowning                                    968\n",
       "Sickness and lack of access to medicines    757\n",
       "Unknown                                     549\n",
       "Unknown (skeletal remains)                  469\n",
       "Vehicle Accident                            444\n",
       "Presumed drowning                           347\n",
       "Shot                                        171\n",
       "Dehydration                                 121\n",
       "Starvation                                   89\n",
       "Hypothermia                                  79\n",
       "Name: Cause of Death, dtype: int64"
      ]
     },
     "execution_count": 23,
     "metadata": {},
     "output_type": "execute_result"
    }
   ],
   "source": [
    "#most common cause of death\n",
    "df['Cause of Death'].value_counts().head(10)"
   ]
  },
  {
   "cell_type": "code",
   "execution_count": 41,
   "id": "47844906",
   "metadata": {},
   "outputs": [
    {
     "data": {
      "text/plain": [
       "Jan    57\n",
       "Feb    51\n",
       "Mar    35\n",
       "Name: Reported Month, dtype: int64"
      ]
     },
     "execution_count": 41,
     "metadata": {},
     "output_type": "execute_result"
    }
   ],
   "source": [
    "df[df['Reported Year']==2019][\"Reported Month\"].value_counts()"
   ]
  },
  {
   "cell_type": "code",
   "execution_count": 47,
   "id": "8a9ad660",
   "metadata": {},
   "outputs": [
    {
     "data": {
      "text/plain": [
       "Central America to US       1507\n",
       "Central Mediterranean        499\n",
       "Western Mediterranean        255\n",
       "Eastern Mediterranean        230\n",
       "Western Balkans               64\n",
       "Calais to United Kingdom      51\n",
       "Western African               15\n",
       "Horn Africa to Yemen          15\n",
       "Italy to France                9\n",
       "Darien Gap                     7\n",
       "Name: Migration Route, dtype: int64"
      ]
     },
     "execution_count": 47,
     "metadata": {},
     "output_type": "execute_result"
    }
   ],
   "source": [
    "df['Migration Route'].value_counts()[:10]#top migration routes"
   ]
  },
  {
   "cell_type": "code",
   "execution_count": 56,
   "id": "5354ca29",
   "metadata": {},
   "outputs": [
    {
     "data": {
      "text/html": [
       "<div>\n",
       "<style scoped>\n",
       "    .dataframe tbody tr th:only-of-type {\n",
       "        vertical-align: middle;\n",
       "    }\n",
       "\n",
       "    .dataframe tbody tr th {\n",
       "        vertical-align: top;\n",
       "    }\n",
       "\n",
       "    .dataframe thead th {\n",
       "        text-align: right;\n",
       "    }\n",
       "</style>\n",
       "<table border=\"1\" class=\"dataframe\">\n",
       "  <thead>\n",
       "    <tr style=\"text-align: right;\">\n",
       "      <th></th>\n",
       "      <th>Web ID</th>\n",
       "    </tr>\n",
       "    <tr>\n",
       "      <th>Reported Year</th>\n",
       "      <th></th>\n",
       "    </tr>\n",
       "  </thead>\n",
       "  <tbody>\n",
       "    <tr>\n",
       "      <th>2014</th>\n",
       "      <td>245</td>\n",
       "    </tr>\n",
       "    <tr>\n",
       "      <th>2015</th>\n",
       "      <td>808</td>\n",
       "    </tr>\n",
       "    <tr>\n",
       "      <th>2016</th>\n",
       "      <td>1275</td>\n",
       "    </tr>\n",
       "    <tr>\n",
       "      <th>2017</th>\n",
       "      <td>1356</td>\n",
       "    </tr>\n",
       "    <tr>\n",
       "      <th>2018</th>\n",
       "      <td>1506</td>\n",
       "    </tr>\n",
       "    <tr>\n",
       "      <th>2019</th>\n",
       "      <td>143</td>\n",
       "    </tr>\n",
       "  </tbody>\n",
       "</table>\n",
       "</div>"
      ],
      "text/plain": [
       "               Web ID\n",
       "Reported Year        \n",
       "2014              245\n",
       "2015              808\n",
       "2016             1275\n",
       "2017             1356\n",
       "2018             1506\n",
       "2019              143"
      ]
     },
     "execution_count": 56,
     "metadata": {},
     "output_type": "execute_result"
    }
   ],
   "source": [
    "df_x = pd.DataFrame(df.groupby('Reported Year')['Web ID'].count())\n",
    "df_x"
   ]
  },
  {
   "cell_type": "code",
   "execution_count": null,
   "id": "c75870be",
   "metadata": {},
   "outputs": [],
   "source": []
  },
  {
   "cell_type": "code",
   "execution_count": 59,
   "id": "2e63bac9",
   "metadata": {},
   "outputs": [
    {
     "data": {
      "text/html": [
       "<div>\n",
       "<style scoped>\n",
       "    .dataframe tbody tr th:only-of-type {\n",
       "        vertical-align: middle;\n",
       "    }\n",
       "\n",
       "    .dataframe tbody tr th {\n",
       "        vertical-align: top;\n",
       "    }\n",
       "\n",
       "    .dataframe thead th {\n",
       "        text-align: right;\n",
       "    }\n",
       "</style>\n",
       "<table border=\"1\" class=\"dataframe\">\n",
       "  <thead>\n",
       "    <tr style=\"text-align: right;\">\n",
       "      <th></th>\n",
       "      <th>Web ID</th>\n",
       "    </tr>\n",
       "    <tr>\n",
       "      <th>Reported Year</th>\n",
       "      <th></th>\n",
       "    </tr>\n",
       "  </thead>\n",
       "  <tbody>\n",
       "    <tr>\n",
       "      <th>2014</th>\n",
       "      <td>245</td>\n",
       "    </tr>\n",
       "    <tr>\n",
       "      <th>2015</th>\n",
       "      <td>808</td>\n",
       "    </tr>\n",
       "    <tr>\n",
       "      <th>2016</th>\n",
       "      <td>1275</td>\n",
       "    </tr>\n",
       "    <tr>\n",
       "      <th>2017</th>\n",
       "      <td>1356</td>\n",
       "    </tr>\n",
       "    <tr>\n",
       "      <th>2018</th>\n",
       "      <td>1506</td>\n",
       "    </tr>\n",
       "    <tr>\n",
       "      <th>2019</th>\n",
       "      <td>143</td>\n",
       "    </tr>\n",
       "  </tbody>\n",
       "</table>\n",
       "</div>"
      ],
      "text/plain": [
       "               Web ID\n",
       "Reported Year        \n",
       "2014              245\n",
       "2015              808\n",
       "2016             1275\n",
       "2017             1356\n",
       "2018             1506\n",
       "2019              143"
      ]
     },
     "execution_count": 59,
     "metadata": {},
     "output_type": "execute_result"
    }
   ],
   "source": []
  },
  {
   "cell_type": "code",
   "execution_count": null,
   "id": "910dc67c",
   "metadata": {},
   "outputs": [],
   "source": [
    "#how to rename a columns"
   ]
  }
 ],
 "metadata": {
  "kernelspec": {
   "display_name": "Python 3 (ipykernel)",
   "language": "python",
   "name": "python3"
  },
  "language_info": {
   "codemirror_mode": {
    "name": "ipython",
    "version": 3
   },
   "file_extension": ".py",
   "mimetype": "text/x-python",
   "name": "python",
   "nbconvert_exporter": "python",
   "pygments_lexer": "ipython3",
   "version": "3.9.12"
  }
 },
 "nbformat": 4,
 "nbformat_minor": 5
}
